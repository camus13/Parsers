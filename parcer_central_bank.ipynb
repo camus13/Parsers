{
 "cells": [
  {
   "cell_type": "code",
   "execution_count": 1,
   "metadata": {},
   "outputs": [],
   "source": [
    "import pandas as pd\n",
    "import numpy as np\n",
    "from selenium import webdriver\n",
    "from selenium.common.exceptions import NoSuchElementException\n",
    "import datetime\n",
    "from time import strftime\n",
    "import random\n",
    "import time"
   ]
  },
  {
   "cell_type": "code",
   "execution_count": 19,
   "metadata": {},
   "outputs": [],
   "source": [
    "dict_months = {'01': 'января', '02': 'февраля', '03': 'марта', '04': 'апреля', '05': 'мая', '06': 'июня', '07': 'июля', '08': 'августа', '09': 'сентября', '10': 'октября', '11': 'ноября', '12': 'декабря'}\n",
    "input_data = pd.read_excel('input_data.xls')\n",
    "date = input_data['Дата'][0].strftime('%d.%m.%Y')[1:].split('.')\n",
    "date[1] = dict_months[date[1]]\n",
    "\n",
    "data_for_writing = pd.DataFrame(columns=['Банк', 'Остаток на счете'])\n",
    "\n",
    "chrome_options = webdriver.ChromeOptions()\n",
    "driver = webdriver.Chrome(\"C:/ProgramData/Anaconda3/Library/bin/chromedriver.exe\", options=chrome_options) # Указать свой патч к chromedriver\n",
    "url = 'http://www.cbr.ru/credit/main.asp'\n",
    "\n",
    "for bank in input_data['Банки'].dropna():\n",
    "    driver.get(url) # Загружаем ссылку в Chrome\n",
    "    form = driver.find_element_by_name(\"find\") # Находим поле для ввода названия банка\n",
    "    form.clear() # Очищаем поле, если там что-то есть\n",
    "    form.send_keys(bank) # Вводим нужный банк\n",
    "    time.sleep(0.5)\n",
    "    driver.find_element_by_css_selector(\".submit\").click() # Клик по кнопке Найти\n",
    "    time.sleep(1)\n",
    "    try:\n",
    "        table2 = driver.find_element_by_css_selector(\".CBRTBL.info_table\").get_attribute('outerHTML') # Получение таблицы\n",
    "        df2  = pd.read_html(table2)[0] # Запись табилцы в pandas\n",
    "        for i in df2.index:\n",
    "            if df2[1][i] == 'Б П С' or df2[1][i] == 'П С':\n",
    "                k = i\n",
    "        k += 1\n",
    "        driver.find_element_by_xpath('//*[@id=\"content\"]//table//tbody//tr[' + str(k) + ']//td[5]//a').click() \n",
    "    except:\n",
    "        data_this = pd.DataFrame([[bank, 'Не удалось найти банк']], columns=['Банк', 'Остаток на счете'])\n",
    "        data_for_writing = data_for_writing.append(data_this)\n",
    "        continue\n",
    "    time.sleep(1)\n",
    "    try:\n",
    "        driver.find_element_by_xpath('//*[@id=\"f_101\"]//span[contains(text(), \"' + str(date[2]) + '\")]').click() # Выбор года\n",
    "    except:\n",
    "        data_this = pd.DataFrame([[bank, 'Не удалось найти  информацию по банку']], columns=['Банк', 'Остаток на счете'])\n",
    "        data_for_writing = data_for_writing.append(data_this)\n",
    "        continue\n",
    "    time.sleep(2)\n",
    "    driver.find_element_by_xpath('//*[@id=\"f_101\"]//ul//a[contains(text(), \"на ' + str(date[0]) + ' ' + str(date[1]) + '\")]').click() # Выбор месяца\n",
    "    table = driver.find_element_by_css_selector(\".data.lined\").get_attribute('outerHTML') # Получение таблицы\n",
    "\n",
    "    df  = pd.read_html(table) # Запись табилцы в pandas\n",
    "    data = df[0][5:]\n",
    "    data.reset_index(inplace=True, drop=True)\n",
    "\n",
    "    sum_residues = 0\n",
    "    for index in data.index:\n",
    "        try:\n",
    "            if int(data[0][index]) in np.array(input_data['Счета']):\n",
    "                sum_residues += int(data[10][index].replace(u'\\xa0', ''))\n",
    "        except:\n",
    "            pass\n",
    "\n",
    "    data_this = pd.DataFrame([[bank, sum_residues]], columns=['Банк', 'Остаток на счете'])\n",
    "    data_for_writing = data_for_writing.append(data_this)\n",
    "\n",
    "driver.quit()\n",
    "\n",
    "\n",
    "data_for_writing.reset_index(inplace=True, drop=True)\n",
    "data_for_writing.to_excel('Final.xls')"
   ]
  },
  {
   "cell_type": "code",
   "execution_count": null,
   "metadata": {},
   "outputs": [],
   "source": []
  }
 ],
 "metadata": {
  "kernelspec": {
   "display_name": "Python 3",
   "language": "python",
   "name": "python3"
  },
  "language_info": {
   "codemirror_mode": {
    "name": "ipython",
    "version": 3
   },
   "file_extension": ".py",
   "mimetype": "text/x-python",
   "name": "python",
   "nbconvert_exporter": "python",
   "pygments_lexer": "ipython3",
   "version": "3.6.4"
  }
 },
 "nbformat": 4,
 "nbformat_minor": 2
}
